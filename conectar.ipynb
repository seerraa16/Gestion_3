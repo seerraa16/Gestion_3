{
 "cells": [
  {
   "cell_type": "code",
   "execution_count": 8,
   "id": "f055e63a",
   "metadata": {},
   "outputs": [
    {
     "name": "stderr",
     "output_type": "stream",
     "text": [
      "C:\\Users\\aserr\\AppData\\Local\\Temp\\ipykernel_6600\\1628526742.py:18: UserWarning: pandas only supports SQLAlchemy connectable (engine/connection) or database string URI or sqlite3 DBAPI2 connection. Other DBAPI2 objects are not tested. Please consider using SQLAlchemy.\n",
      "  df = pd.read_sql(query, conn)\n"
     ]
    },
    {
     "name": "stdout",
     "output_type": "stream",
     "text": [
      " Datos migrados de Azure SQL a MongoDB.\n"
     ]
    }
   ],
   "source": [
    "import pyodbc\n",
    "import pandas as pd\n",
    "from pymongo import MongoClient\n",
    "# Conexión a Azure SQL\n",
    "AZURE_SERVER = 'uaxmathfis.database.windows.net'\n",
    "AZURE_DATABASE = 'usecases'\n",
    "AZURE_DRIVER = '{ODBC Driver 17 for SQL Server}'\n",
    "azure_conn_str =f\"DRIVER={AZURE_DRIVER};SERVER={AZURE_SERVER};DATABASE={AZURE_DATABASE};Authentication=ActiveDirectoryInteractive\"\n",
    "\n",
    "# Conexión a MongoDB local\n",
    "mongo_client = MongoClient(\"mongodb://localhost:27017/\")\n",
    "mongo_db = mongo_client[\"local\"]\n",
    "mongo_collection = mongo_db[\"[MONGO06_Sociodemograficos]\"]\n",
    "\n",
    "# Consulta a SQL Server (modifica la tabla aquí)\n",
    "query = \"SELECT * FROM [DATAEX].[MONGO06_Sociodemograficos]\"\n",
    "with pyodbc.connect(azure_conn_str) as conn:\n",
    "    df = pd.read_sql(query, conn)\n",
    "\n",
    "\n",
    "# Inserción en MongoDB\n",
    "docs = df.to_dict(orient='records')\n",
    "mongo_collection.insert_many(docs)\n",
    "print(\" Datos migrados de Azure SQL a MongoDB.\")"
   ]
  },
  {
   "cell_type": "code",
   "execution_count": null,
   "id": "42afa472",
   "metadata": {},
   "outputs": [],
   "source": []
  }
 ],
 "metadata": {
  "kernelspec": {
   "display_name": "env",
   "language": "python",
   "name": "python3"
  },
  "language_info": {
   "codemirror_mode": {
    "name": "ipython",
    "version": 3
   },
   "file_extension": ".py",
   "mimetype": "text/x-python",
   "name": "python",
   "nbconvert_exporter": "python",
   "pygments_lexer": "ipython3",
   "version": "3.13.0"
  }
 },
 "nbformat": 4,
 "nbformat_minor": 5
}
